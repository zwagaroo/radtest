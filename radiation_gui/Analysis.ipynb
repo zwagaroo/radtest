{
 "cells": [
  {
   "cell_type": "markdown",
   "id": "ec422824-3a8a-4d5c-8011-db098b768120",
   "metadata": {},
   "source": [
    "# Imports"
   ]
  },
  {
   "cell_type": "code",
   "execution_count": 5,
   "id": "6f4b3306-3c93-4234-a3c2-ed00f140ef8d",
   "metadata": {},
   "outputs": [],
   "source": [
    "import pandas as pd\n",
    "import matplotlib.pyplot as plt"
   ]
  },
  {
   "cell_type": "markdown",
   "id": "bc4da927-0154-45f4-a4d9-f0c11159f632",
   "metadata": {},
   "source": [
    "# Read in Data"
   ]
  },
  {
   "cell_type": "code",
   "execution_count": 3,
   "id": "7fd8337c-3364-45f4-b22b-a8f849b13028",
   "metadata": {},
   "outputs": [],
   "source": [
    "df = pd.read_csv(\"dry_run_test_lot1_board1&3.csv\")"
   ]
  },
  {
   "cell_type": "code",
   "execution_count": 4,
   "id": "9d395cd5-d62e-4d0e-8dc2-841edce6750b",
   "metadata": {},
   "outputs": [
    {
     "data": {
      "text/html": [
       "<div>\n",
       "<style scoped>\n",
       "    .dataframe tbody tr th:only-of-type {\n",
       "        vertical-align: middle;\n",
       "    }\n",
       "\n",
       "    .dataframe tbody tr th {\n",
       "        vertical-align: top;\n",
       "    }\n",
       "\n",
       "    .dataframe thead th {\n",
       "        text-align: right;\n",
       "    }\n",
       "</style>\n",
       "<table border=\"1\" class=\"dataframe\">\n",
       "  <thead>\n",
       "    <tr style=\"text-align: right;\">\n",
       "      <th></th>\n",
       "      <th>DateTime</th>\n",
       "      <th>Time_S</th>\n",
       "      <th>Volt1_V PS0</th>\n",
       "      <th>Curr1_A PS0</th>\n",
       "      <th>Volt2_V PS0</th>\n",
       "      <th>Curr2_A PS0</th>\n",
       "    </tr>\n",
       "  </thead>\n",
       "  <tbody>\n",
       "    <tr>\n",
       "      <th>0</th>\n",
       "      <td>16-Nov-2023 16:24:37</td>\n",
       "      <td>0.270313</td>\n",
       "      <td>3.603041</td>\n",
       "      <td>0.031917</td>\n",
       "      <td>3.602830</td>\n",
       "      <td>0.032438</td>\n",
       "    </tr>\n",
       "    <tr>\n",
       "      <th>1</th>\n",
       "      <td>16-Nov-2023 16:24:37</td>\n",
       "      <td>0.563277</td>\n",
       "      <td>3.603049</td>\n",
       "      <td>0.031919</td>\n",
       "      <td>3.602844</td>\n",
       "      <td>0.032440</td>\n",
       "    </tr>\n",
       "    <tr>\n",
       "      <th>2</th>\n",
       "      <td>16-Nov-2023 16:24:37</td>\n",
       "      <td>0.853399</td>\n",
       "      <td>3.602995</td>\n",
       "      <td>0.031922</td>\n",
       "      <td>3.602836</td>\n",
       "      <td>0.032451</td>\n",
       "    </tr>\n",
       "    <tr>\n",
       "      <th>3</th>\n",
       "      <td>16-Nov-2023 16:24:38</td>\n",
       "      <td>1.133111</td>\n",
       "      <td>3.603004</td>\n",
       "      <td>0.031929</td>\n",
       "      <td>3.602852</td>\n",
       "      <td>0.032449</td>\n",
       "    </tr>\n",
       "    <tr>\n",
       "      <th>4</th>\n",
       "      <td>16-Nov-2023 16:24:38</td>\n",
       "      <td>1.426359</td>\n",
       "      <td>3.602986</td>\n",
       "      <td>0.031933</td>\n",
       "      <td>3.602872</td>\n",
       "      <td>0.032454</td>\n",
       "    </tr>\n",
       "    <tr>\n",
       "      <th>...</th>\n",
       "      <td>...</td>\n",
       "      <td>...</td>\n",
       "      <td>...</td>\n",
       "      <td>...</td>\n",
       "      <td>...</td>\n",
       "      <td>...</td>\n",
       "    </tr>\n",
       "    <tr>\n",
       "      <th>262101</th>\n",
       "      <td>17-Nov-2023 12:51:27</td>\n",
       "      <td>73610.782904</td>\n",
       "      <td>3.603145</td>\n",
       "      <td>0.031435</td>\n",
       "      <td>3.603153</td>\n",
       "      <td>0.032161</td>\n",
       "    </tr>\n",
       "    <tr>\n",
       "      <th>262102</th>\n",
       "      <td>17-Nov-2023 12:51:27</td>\n",
       "      <td>73611.070118</td>\n",
       "      <td>3.603121</td>\n",
       "      <td>0.031434</td>\n",
       "      <td>3.603163</td>\n",
       "      <td>0.032168</td>\n",
       "    </tr>\n",
       "    <tr>\n",
       "      <th>262103</th>\n",
       "      <td>17-Nov-2023 12:51:28</td>\n",
       "      <td>73611.351862</td>\n",
       "      <td>3.603099</td>\n",
       "      <td>0.031436</td>\n",
       "      <td>3.603150</td>\n",
       "      <td>0.032169</td>\n",
       "    </tr>\n",
       "    <tr>\n",
       "      <th>262104</th>\n",
       "      <td>17-Nov-2023 12:51:28</td>\n",
       "      <td>73611.654443</td>\n",
       "      <td>0.004819</td>\n",
       "      <td>0.000160</td>\n",
       "      <td>0.007734</td>\n",
       "      <td>0.000644</td>\n",
       "    </tr>\n",
       "    <tr>\n",
       "      <th>262105</th>\n",
       "      <td>17-Nov-2023 12:51:29</td>\n",
       "      <td>73611.935852</td>\n",
       "      <td>0.002425</td>\n",
       "      <td>0.000200</td>\n",
       "      <td>0.004905</td>\n",
       "      <td>0.000657</td>\n",
       "    </tr>\n",
       "  </tbody>\n",
       "</table>\n",
       "<p>262106 rows × 6 columns</p>\n",
       "</div>"
      ],
      "text/plain": [
       "                    DateTime        Time_S  Volt1_V PS0  Curr1_A PS0  \\\n",
       "0       16-Nov-2023 16:24:37      0.270313     3.603041     0.031917   \n",
       "1       16-Nov-2023 16:24:37      0.563277     3.603049     0.031919   \n",
       "2       16-Nov-2023 16:24:37      0.853399     3.602995     0.031922   \n",
       "3       16-Nov-2023 16:24:38      1.133111     3.603004     0.031929   \n",
       "4       16-Nov-2023 16:24:38      1.426359     3.602986     0.031933   \n",
       "...                      ...           ...          ...          ...   \n",
       "262101  17-Nov-2023 12:51:27  73610.782904     3.603145     0.031435   \n",
       "262102  17-Nov-2023 12:51:27  73611.070118     3.603121     0.031434   \n",
       "262103  17-Nov-2023 12:51:28  73611.351862     3.603099     0.031436   \n",
       "262104  17-Nov-2023 12:51:28  73611.654443     0.004819     0.000160   \n",
       "262105  17-Nov-2023 12:51:29  73611.935852     0.002425     0.000200   \n",
       "\n",
       "        Volt2_V PS0  Curr2_A PS0  \n",
       "0          3.602830     0.032438  \n",
       "1          3.602844     0.032440  \n",
       "2          3.602836     0.032451  \n",
       "3          3.602852     0.032449  \n",
       "4          3.602872     0.032454  \n",
       "...             ...          ...  \n",
       "262101     3.603153     0.032161  \n",
       "262102     3.603163     0.032168  \n",
       "262103     3.603150     0.032169  \n",
       "262104     0.007734     0.000644  \n",
       "262105     0.004905     0.000657  \n",
       "\n",
       "[262106 rows x 6 columns]"
      ]
     },
     "execution_count": 4,
     "metadata": {},
     "output_type": "execute_result"
    }
   ],
   "source": [
    "df"
   ]
  },
  {
   "cell_type": "markdown",
   "id": "7ac09cd3-42f2-4767-92c7-3682be486225",
   "metadata": {},
   "source": [
    "# Plot"
   ]
  },
  {
   "cell_type": "code",
   "execution_count": 13,
   "id": "a6f17d5e-b0cb-402b-a0ea-f0de9f8bd1d7",
   "metadata": {},
   "outputs": [
    {
     "data": {
      "text/plain": [
       "[<matplotlib.lines.Line2D at 0x2d9ecb4b210>]"
      ]
     },
     "execution_count": 13,
     "metadata": {},
     "output_type": "execute_result"
    },
    {
     "data": {
      "image/png": "[encoded data removed]",
      "text/plain": [
       "<Figure size 640x480 with 1 Axes>"
      ]
     },
     "metadata": {},
     "output_type": "display_data"
    }
   ],
   "source": [
    "plt.plot(df[\"Time_S\"].iloc[0:200], df[\"Volt1_V PS0\"].iloc[0:200])"
   ]
  },
  {
   "cell_type": "code",
   "execution_count": null,
   "id": "3f01c281-1f3e-43be-9e9c-6c2aabe7403d",
   "metadata": {},
   "outputs": [],
   "source": [
    "plt.plot(df[\"Time_S\"].iloc[0:200], df[\"Volt1_V PS0\"].iloc[0:200])"
   ]
  }
 ],
 "metadata": {
  "kernelspec": {
   "display_name": "Python 3 (ipykernel)",
   "language": "python",
   "name": "python3"
  },
  "language_info": {
   "codemirror_mode": {
    "name": "ipython",
    "version": 3
   },
   "file_extension": ".py",
   "mimetype": "text/x-python",
   "name": "python",
   "nbconvert_exporter": "python",
   "pygments_lexer": "ipython3",
   "version": "3.11.6"
  }
 },
 "nbformat": 4,
 "nbformat_minor": 5
}
